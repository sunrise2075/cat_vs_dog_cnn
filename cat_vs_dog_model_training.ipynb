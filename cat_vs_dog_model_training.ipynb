{
 "cells": [
  {
   "cell_type": "markdown",
   "metadata": {},
   "source": [
    "# 图片预处理"
   ]
  },
  {
   "cell_type": "code",
   "execution_count": 1,
   "metadata": {},
   "outputs": [
    {
     "name": "stderr",
     "output_type": "stream",
     "text": [
      "/home/ubuntu/anaconda3/envs/tensorflow_p36/lib/python3.6/site-packages/matplotlib/font_manager.py:278: UserWarning: Matplotlib is building the font cache using fc-list. This may take a moment.\n",
      "  'Matplotlib is building the font cache using fc-list. '\n"
     ]
    }
   ],
   "source": [
    "import os, shutil, platform\n",
    "import numpy as np\n",
    "import pandas as pd\n",
    "import matplotlib.pyplot as plt\n",
    "from random import shuffle \n",
    "\n",
    "%matplotlib inline "
   ]
  },
  {
   "cell_type": "markdown",
   "metadata": {},
   "source": [
    "## 工具函数:判断操作系统种类"
   ]
  },
  {
   "cell_type": "code",
   "execution_count": 2,
   "metadata": {},
   "outputs": [
    {
     "name": "stdout",
     "output_type": "stream",
     "text": [
      "当前工作目录是:\n",
      "/home/ubuntu/cat_vs_dog_cnn\n"
     ]
    }
   ],
   "source": [
    "print(\"当前工作目录是:\")\n",
    "print(os.getcwd())"
   ]
  },
  {
   "cell_type": "code",
   "execution_count": 3,
   "metadata": {},
   "outputs": [
    {
     "name": "stdout",
     "output_type": "stream",
     "text": [
      "/home/ubuntu/anaconda3/envs/tensorflow_p36/lib/python3.6/site-packages/PIL/Image.py\n"
     ]
    }
   ],
   "source": [
    "from PIL import Image\n",
    "print(Image.__file__)"
   ]
  },
  {
   "cell_type": "code",
   "execution_count": 4,
   "metadata": {},
   "outputs": [],
   "source": [
    "def is_Windows_OS():\n",
    "    if platform.system() == 'Windows':\n",
    "        return True\n",
    "    else:\n",
    "        return False"
   ]
  },
  {
   "cell_type": "markdown",
   "metadata": {},
   "source": [
    "## 定义的目录结构变量"
   ]
  },
  {
   "cell_type": "code",
   "execution_count": 5,
   "metadata": {},
   "outputs": [],
   "source": [
    "# 训练集图片从zip包解压之后存放的目录\n",
    "train_images_folder = 'train'\n",
    "\n",
    "# 训练集图片目录\n",
    "train_set_folder = 'train1'\n",
    "train_set_folder_cat = 'train1/cats/'\n",
    "train_set_folder_dog = 'train1/dogs/'\n",
    "\n",
    "# 验证集图片目录\n",
    "validation_set_folder = 'valid'\n",
    "validation_set_folder_cat = 'valid/cats/'\n",
    "validation_set_folder_dog = 'valid/dogs/'"
   ]
  },
  {
   "cell_type": "markdown",
   "metadata": {},
   "source": [
    "## 新建有关目录结构"
   ]
  },
  {
   "cell_type": "code",
   "execution_count": 6,
   "metadata": {},
   "outputs": [],
   "source": [
    "def rmrf_mkdir(dirname):\n",
    "    if os.path.exists(dirname):\n",
    "        shutil.rmtree(dirname)\n",
    "    os.mkdir(dirname)\n",
    "\n",
    "rmrf_mkdir(train_set_folder)\n",
    "os.mkdir(train_set_folder_cat)\n",
    "os.mkdir(train_set_folder_dog)\n",
    "\n",
    "rmrf_mkdir(validation_set_folder)\n",
    "os.mkdir(validation_set_folder_cat)\n",
    "os.mkdir(validation_set_folder_dog)"
   ]
  },
  {
   "cell_type": "markdown",
   "metadata": {},
   "source": [
    "## 加载训练集目录"
   ]
  },
  {
   "cell_type": "code",
   "execution_count": 7,
   "metadata": {},
   "outputs": [],
   "source": [
    "train_filenames = os.listdir(train_images_folder)\n",
    "train_cat = filter(lambda x:x[:3] == 'cat', train_filenames)\n",
    "train_dog = filter(lambda x:x[:3] == 'dog', train_filenames)"
   ]
  },
  {
   "cell_type": "code",
   "execution_count": 8,
   "metadata": {},
   "outputs": [
    {
     "name": "stdout",
     "output_type": "stream",
     "text": [
      "<class 'filter'>\n",
      "25000\n"
     ]
    }
   ],
   "source": [
    "print (type(train_cat))\n",
    "print (len(train_filenames))"
   ]
  },
  {
   "cell_type": "code",
   "execution_count": 9,
   "metadata": {},
   "outputs": [
    {
     "name": "stdout",
     "output_type": "stream",
     "text": [
      "cat.2814.jpg\n"
     ]
    }
   ],
   "source": [
    "print (train_filenames[24999])"
   ]
  },
  {
   "cell_type": "markdown",
   "metadata": {},
   "source": [
    "定义一组移动有用的函数："
   ]
  },
  {
   "cell_type": "code",
   "execution_count": 10,
   "metadata": {},
   "outputs": [],
   "source": [
    "num_of_images_valid_set = 2500\n",
    "        \n",
    "def move_cat_images():\n",
    "    timer = 0\n",
    "    for filename in train_cat:\n",
    "        if timer < num_of_images_valid_set:\n",
    "            shutil.copy2('train/'+filename, validation_set_folder_cat)\n",
    "        else:\n",
    "            shutil.copy2('train/'+filename, train_set_folder_cat)\n",
    "        timer = timer + 1\n",
    "\n",
    "def move_dog_images():\n",
    "    timer = 0\n",
    "    for filename in train_dog:\n",
    "        if timer < num_of_images_valid_set:\n",
    "            shutil.copy2('train/'+filename, validation_set_folder_dog)\n",
    "        else:\n",
    "            shutil.copy2('train/'+filename, train_set_folder_dog)\n",
    "        timer = timer + 1  "
   ]
  },
  {
   "cell_type": "code",
   "execution_count": 11,
   "metadata": {},
   "outputs": [],
   "source": [
    "def fill_train_set_valid_set_folder_with_images():\n",
    "    move_cat_images()\n",
    "    move_dog_images()"
   ]
  },
  {
   "cell_type": "code",
   "execution_count": 12,
   "metadata": {},
   "outputs": [
    {
     "name": "stdout",
     "output_type": "stream",
     "text": [
      "fill_train_set_valid_set_folder_with_images执行完毕\n"
     ]
    }
   ],
   "source": [
    "fill_train_set_valid_set_folder_with_images()\n",
    "print ('fill_train_set_valid_set_folder_with_images执行完毕')"
   ]
  },
  {
   "cell_type": "markdown",
   "metadata": {},
   "source": [
    "# 搭建并且编译模型"
   ]
  },
  {
   "cell_type": "code",
   "execution_count": 13,
   "metadata": {},
   "outputs": [
    {
     "name": "stderr",
     "output_type": "stream",
     "text": [
      "Using TensorFlow backend.\n"
     ]
    }
   ],
   "source": [
    "from keras.applications.inception_resnet_v2 import InceptionResNetV2\n",
    "from keras.models import Sequential, Model\n",
    "from keras.optimizers import Adam\n",
    "from keras.layers import Dropout\n",
    "from keras.layers import Dense\n",
    "from keras.callbacks import EarlyStopping, ModelCheckpoint\n",
    "from keras.preprocessing.image import ImageDataGenerator"
   ]
  },
  {
   "cell_type": "code",
   "execution_count": 19,
   "metadata": {},
   "outputs": [
    {
     "name": "stdout",
     "output_type": "stream",
     "text": [
      "模型组装完毕！\n"
     ]
    }
   ],
   "source": [
    "batch_size = 64\n",
    "target_size = (299, 299)\n",
    "\n",
    "# 不包含原有模型的全连接层\n",
    "base_model = InceptionResNetV2(include_top=False, \n",
    "                             weights='imagenet',\n",
    "                             input_shape = (299, 299, 3),\n",
    "                             pooling='avg')\n",
    "\n",
    "for layer in base_model.layers:\n",
    "        layer.trainable = False\n",
    "\n",
    "x = base_model.output\n",
    "\n",
    "x = Dense(units = 1024, activation = 'relu',  name='fc1')(x)\n",
    "\n",
    "x = Dropout(0.5, name='dropout')(x)\n",
    "\n",
    "# Classifier\n",
    "predictions = Dense(units = 1, activation='sigmoid',  name='predictions')(x)\n",
    "\n",
    "model = Model(inputs=base_model.input, outputs=predictions)\n",
    "\n",
    "print(\"模型组装完毕！\")"
   ]
  },
  {
   "cell_type": "markdown",
   "metadata": {},
   "source": [
    "## 编译模型"
   ]
  },
  {
   "cell_type": "code",
   "execution_count": 20,
   "metadata": {},
   "outputs": [
    {
     "name": "stdout",
     "output_type": "stream",
     "text": [
      "模型编译完成!\n"
     ]
    }
   ],
   "source": [
    "# Compiling the CNN\n",
    "model.compile(optimizer = 'adam', loss = 'binary_crossentropy', metrics = ['accuracy'])\n",
    "print(\"模型编译完成!\")"
   ]
  },
  {
   "cell_type": "markdown",
   "metadata": {},
   "source": [
    "## 训练模型"
   ]
  },
  {
   "cell_type": "code",
   "execution_count": 21,
   "metadata": {},
   "outputs": [
    {
     "name": "stdout",
     "output_type": "stream",
     "text": [
      "训练集图片:\n",
      "Found 20000 images belonging to 2 classes.\n",
      "验证集图片:\n",
      "Found 5000 images belonging to 2 classes.\n"
     ]
    }
   ],
   "source": [
    "train_image_gen = ImageDataGenerator(rotation_range=20,\n",
    "                                     width_shift_range=0.2,\n",
    "                                     height_shift_range=0.2,\n",
    "                                     rescale = 1./255,\n",
    "                                     shear_range = 0.2,\n",
    "                                     zoom_range = 0.2,\n",
    "                                     horizontal_flip = True)\n",
    "print(\"训练集图片:\")\n",
    "training_set = train_image_gen.flow_from_directory('train1',\n",
    "                                                 target_size = target_size,\n",
    "                                                 batch_size = batch_size,\n",
    "                                                 color_mode=\"rgb\",\n",
    "                                                 class_mode = 'binary')\n",
    "\n",
    "valid_image_gen = ImageDataGenerator(rotation_range=20,\n",
    "                                     width_shift_range=0.2,\n",
    "                                     height_shift_range=0.2,\n",
    "                                     rescale = 1./255,\n",
    "                                     shear_range = 0.2,\n",
    "                                     zoom_range = 0.2,\n",
    "                                     horizontal_flip = True)\n",
    "print(\"验证集图片:\")\n",
    "validation_set = valid_image_gen.flow_from_directory('valid',\n",
    "                                                 target_size = target_size,\n",
    "                                                 batch_size = batch_size,\n",
    "                                                 color_mode=\"rgb\",\n",
    "                                                 class_mode = 'binary')\n"
   ]
  },
  {
   "cell_type": "markdown",
   "metadata": {},
   "source": [
    "## 开始训练模型"
   ]
  },
  {
   "cell_type": "code",
   "execution_count": 22,
   "metadata": {
    "scrolled": true
   },
   "outputs": [
    {
     "name": "stdout",
     "output_type": "stream",
     "text": [
      "Epoch 1/10\n",
      "344/343 [==============================] - 554s 2s/step - loss: 0.1130 - acc: 0.9599 - val_loss: 0.2033 - val_acc: 0.9424\n",
      "Epoch 2/10\n",
      "344/343 [==============================] - 538s 2s/step - loss: 0.0837 - acc: 0.9702 - val_loss: 0.1481 - val_acc: 0.9542\n",
      "Epoch 3/10\n",
      "344/343 [==============================] - 542s 2s/step - loss: 0.0715 - acc: 0.9739 - val_loss: 0.0765 - val_acc: 0.9772\n",
      "Epoch 4/10\n",
      "344/343 [==============================] - 541s 2s/step - loss: 0.0646 - acc: 0.9763 - val_loss: 0.1009 - val_acc: 0.9690\n",
      "Epoch 5/10\n",
      "344/343 [==============================] - 535s 2s/step - loss: 0.0669 - acc: 0.9750 - val_loss: 0.0549 - val_acc: 0.9820\n",
      "Epoch 6/10\n",
      "344/343 [==============================] - 540s 2s/step - loss: 0.0633 - acc: 0.9760 - val_loss: 0.2230 - val_acc: 0.9366\n",
      "Epoch 7/10\n",
      "344/343 [==============================] - 533s 2s/step - loss: 0.0617 - acc: 0.9766 - val_loss: 0.1749 - val_acc: 0.9452\n",
      "Epoch 8/10\n",
      "344/343 [==============================] - 540s 2s/step - loss: 0.0587 - acc: 0.9775 - val_loss: 0.1385 - val_acc: 0.9574\n",
      "Epoch 9/10\n",
      "344/343 [==============================] - 537s 2s/step - loss: 0.0591 - acc: 0.9779 - val_loss: 0.1713 - val_acc: 0.9490\n",
      "Epoch 10/10\n",
      "344/343 [==============================] - 535s 2s/step - loss: 0.0578 - acc: 0.9779 - val_loss: 0.1175 - val_acc: 0.9640\n"
     ]
    },
    {
     "data": {
      "text/plain": [
       "<keras.callbacks.History at 0x7fb1c43fcf98>"
      ]
     },
     "execution_count": 22,
     "metadata": {},
     "output_type": "execute_result"
    }
   ],
   "source": [
    "# 训练集图片总量\n",
    "train_size = 22000\n",
    "\n",
    "# 每一轮训练需要执行的步长\n",
    "steps_per_epoch = train_size/batch_size\n",
    "\n",
    "# 验证集图片总量\n",
    "valid_size = 3000\n",
    "# 每一轮验证需要执行的步长\n",
    "validation_steps = valid_size/batch_size\n",
    "\n",
    "# 增加检查点，设置模型早停\n",
    "callbacks = [EarlyStopping(monitor='val_loss', patience=5 ),\n",
    "             ModelCheckpoint(filepath='final_model_weights.h5', monitor='val_loss', save_best_only=True)]\n",
    "\n",
    "# 使用模型拟合图片数据\n",
    "model.fit_generator(training_set, epochs = 10, steps_per_epoch = steps_per_epoch, callbacks=callbacks,\n",
    "                    validation_data=validation_set, validation_steps = validation_steps)"
   ]
  },
  {
   "cell_type": "markdown",
   "metadata": {},
   "source": [
    "## 开始预测"
   ]
  },
  {
   "cell_type": "code",
   "execution_count": 23,
   "metadata": {},
   "outputs": [],
   "source": [
    "# 测试集图片从zip包解压缩之后的存放目录\n",
    "test_set_folder = 'test'\n",
    "test_folder =\"test1\"\n",
    "test_inner_folder = \"test1/test\"\n",
    "rmrf_mkdir(test_folder)\n",
    "os.mkdir(test_inner_folder)"
   ]
  },
  {
   "cell_type": "code",
   "execution_count": 24,
   "metadata": {},
   "outputs": [],
   "source": [
    "def move_test_images():\n",
    "    test_filenames = os.listdir(test_set_folder)\n",
    "    for filename in test_filenames:\n",
    "        shutil.copy2( test_set_folder + '/' + filename, test_inner_folder)\n"
   ]
  },
  {
   "cell_type": "code",
   "execution_count": 25,
   "metadata": {},
   "outputs": [
    {
     "name": "stdout",
     "output_type": "stream",
     "text": [
      "开始导入测试集图片:\n",
      "Found 12500 images belonging to 1 classes.\n",
      "测试目录准备完成！\n"
     ]
    }
   ],
   "source": [
    "move_test_images()\n",
    "print(\"开始导入测试集图片:\")\n",
    "test_datagen = ImageDataGenerator(rescale=1./255)\n",
    "test_generator = test_datagen.flow_from_directory(test_folder,\n",
    "                                                  target_size=target_size, \n",
    "                                                  batch_size=batch_size,\n",
    "                                                  shuffle = False, class_mode=None)\n",
    "\n",
    "print(\"测试目录准备完成！\")"
   ]
  },
  {
   "cell_type": "markdown",
   "metadata": {},
   "source": [
    "## 备份模型到`json`文件"
   ]
  },
  {
   "cell_type": "code",
   "execution_count": 26,
   "metadata": {},
   "outputs": [
    {
     "name": "stdout",
     "output_type": "stream",
     "text": [
      "模型已经保存到json文件！\n"
     ]
    }
   ],
   "source": [
    "from keras.models import model_from_json\n",
    "\n",
    "# 保存模型结构\n",
    "model_json = model.to_json()\n",
    "with open(\"best_model.json\", \"w\") as json_file:\n",
    "    json_file.write(model_json)\n",
    "    \n",
    "print(\"模型已经保存到json文件！\")"
   ]
  },
  {
   "cell_type": "markdown",
   "metadata": {},
   "source": [
    "# 加载模型结构和权重"
   ]
  },
  {
   "cell_type": "code",
   "execution_count": 27,
   "metadata": {},
   "outputs": [
    {
     "name": "stdout",
     "output_type": "stream",
     "text": [
      "loaded_model重新加载模型权重！\n",
      "loaded_model重新加载模型权重完成！\n"
     ]
    }
   ],
   "source": [
    "# 使用新的模型结构加载模型权重\n",
    "json_file = open(\"best_model.json\", \"r\")\n",
    "loaded_model_json = json_file.read()\n",
    "json_file.close()\n",
    "loaded_model = model_from_json(loaded_model_json)\n",
    "print(\"loaded_model重新加载模型权重！\")\n",
    "loaded_model.load_weights('final_model_weights.h5')\n",
    "print(\"loaded_model重新加载模型权重完成！\")"
   ]
  },
  {
   "cell_type": "code",
   "execution_count": 28,
   "metadata": {},
   "outputs": [
    {
     "name": "stdout",
     "output_type": "stream",
     "text": [
      "预测执行开始！\n",
      "196/196 [==============================] - 61s 310ms/step\n",
      "预测执行完毕！\n"
     ]
    }
   ],
   "source": [
    "print(\"预测执行开始！\")\n",
    "pred_result = loaded_model.predict_generator(test_generator, verbose=1)\n",
    "print(\"预测执行完毕！\")"
   ]
  },
  {
   "cell_type": "code",
   "execution_count": 29,
   "metadata": {},
   "outputs": [
    {
     "data": {
      "text/plain": [
       "['test/1.jpg',\n",
       " 'test/10.jpg',\n",
       " 'test/100.jpg',\n",
       " 'test/1000.jpg',\n",
       " 'test/10000.jpg',\n",
       " 'test/10001.jpg',\n",
       " 'test/10002.jpg',\n",
       " 'test/10003.jpg',\n",
       " 'test/10004.jpg',\n",
       " 'test/10005.jpg']"
      ]
     },
     "execution_count": 29,
     "metadata": {},
     "output_type": "execute_result"
    }
   ],
   "source": [
    "test_generator.filenames[:10]"
   ]
  },
  {
   "cell_type": "code",
   "execution_count": 30,
   "metadata": {},
   "outputs": [
    {
     "data": {
      "text/plain": [
       "array([[9.9987054e-01],\n",
       "       [1.8217096e-11],\n",
       "       [4.6885090e-11],\n",
       "       [9.9987864e-01],\n",
       "       [9.9963856e-01],\n",
       "       [3.1731666e-11],\n",
       "       [1.1109471e-08],\n",
       "       [9.9591738e-01],\n",
       "       [8.9507711e-01],\n",
       "       [1.5509391e-10]], dtype=float32)"
      ]
     },
     "execution_count": 30,
     "metadata": {},
     "output_type": "execute_result"
    }
   ],
   "source": [
    "pred_result[:10]"
   ]
  },
  {
   "cell_type": "markdown",
   "metadata": {},
   "source": [
    "## 导出预测结果"
   ]
  },
  {
   "cell_type": "code",
   "execution_count": 31,
   "metadata": {},
   "outputs": [
    {
     "name": "stdout",
     "output_type": "stream",
     "text": [
      "导出结果完成！\n"
     ]
    },
    {
     "name": "stderr",
     "output_type": "stream",
     "text": [
      "/home/ubuntu/anaconda3/envs/tensorflow_p36/lib/python3.6/site-packages/ipykernel/__main__.py:8: FutureWarning: set_value is deprecated and will be removed in a future release. Please use .at[] or .iat[] accessors instead\n"
     ]
    }
   ],
   "source": [
    "import pandas as pd\n",
    "from keras.preprocessing.image import *\n",
    "\n",
    "solution = pd.read_csv(\"sample_submission.csv\")\n",
    "\n",
    "for i, fname in enumerate(test_generator.filenames):\n",
    "        index = int(fname[fname.rfind('/')+1:fname.rfind('.')])\n",
    "        solution.set_value(index-1, 'label', pred_result[i])\n",
    "\n",
    "print(\"导出结果完成！\")"
   ]
  },
  {
   "cell_type": "code",
   "execution_count": 32,
   "metadata": {},
   "outputs": [
    {
     "data": {
      "text/html": [
       "<div>\n",
       "<style scoped>\n",
       "    .dataframe tbody tr th:only-of-type {\n",
       "        vertical-align: middle;\n",
       "    }\n",
       "\n",
       "    .dataframe tbody tr th {\n",
       "        vertical-align: top;\n",
       "    }\n",
       "\n",
       "    .dataframe thead th {\n",
       "        text-align: right;\n",
       "    }\n",
       "</style>\n",
       "<table border=\"1\" class=\"dataframe\">\n",
       "  <thead>\n",
       "    <tr style=\"text-align: right;\">\n",
       "      <th></th>\n",
       "      <th>id</th>\n",
       "      <th>label</th>\n",
       "    </tr>\n",
       "  </thead>\n",
       "  <tbody>\n",
       "    <tr>\n",
       "      <th>0</th>\n",
       "      <td>1</td>\n",
       "      <td>9.998705e-01</td>\n",
       "    </tr>\n",
       "    <tr>\n",
       "      <th>1</th>\n",
       "      <td>2</td>\n",
       "      <td>9.994491e-01</td>\n",
       "    </tr>\n",
       "    <tr>\n",
       "      <th>2</th>\n",
       "      <td>3</td>\n",
       "      <td>9.933369e-01</td>\n",
       "    </tr>\n",
       "    <tr>\n",
       "      <th>3</th>\n",
       "      <td>4</td>\n",
       "      <td>9.992237e-01</td>\n",
       "    </tr>\n",
       "    <tr>\n",
       "      <th>4</th>\n",
       "      <td>5</td>\n",
       "      <td>2.237743e-11</td>\n",
       "    </tr>\n",
       "    <tr>\n",
       "      <th>5</th>\n",
       "      <td>6</td>\n",
       "      <td>2.319464e-07</td>\n",
       "    </tr>\n",
       "    <tr>\n",
       "      <th>6</th>\n",
       "      <td>7</td>\n",
       "      <td>1.698844e-10</td>\n",
       "    </tr>\n",
       "    <tr>\n",
       "      <th>7</th>\n",
       "      <td>8</td>\n",
       "      <td>1.543050e-09</td>\n",
       "    </tr>\n",
       "    <tr>\n",
       "      <th>8</th>\n",
       "      <td>9</td>\n",
       "      <td>3.034472e-10</td>\n",
       "    </tr>\n",
       "    <tr>\n",
       "      <th>9</th>\n",
       "      <td>10</td>\n",
       "      <td>1.821710e-11</td>\n",
       "    </tr>\n",
       "  </tbody>\n",
       "</table>\n",
       "</div>"
      ],
      "text/plain": [
       "   id         label\n",
       "0   1  9.998705e-01\n",
       "1   2  9.994491e-01\n",
       "2   3  9.933369e-01\n",
       "3   4  9.992237e-01\n",
       "4   5  2.237743e-11\n",
       "5   6  2.319464e-07\n",
       "6   7  1.698844e-10\n",
       "7   8  1.543050e-09\n",
       "8   9  3.034472e-10\n",
       "9  10  1.821710e-11"
      ]
     },
     "execution_count": 32,
     "metadata": {},
     "output_type": "execute_result"
    }
   ],
   "source": [
    "solution.to_csv(\"pred-17.csv\", index = False)\n",
    "solution.head(10)"
   ]
  },
  {
   "cell_type": "code",
   "execution_count": null,
   "metadata": {},
   "outputs": [],
   "source": []
  }
 ],
 "metadata": {
  "kernelspec": {
   "display_name": "Python [conda env:tensorflow_p36]",
   "language": "python",
   "name": "conda-env-tensorflow_p36-py"
  },
  "language_info": {
   "codemirror_mode": {
    "name": "ipython",
    "version": 3
   },
   "file_extension": ".py",
   "mimetype": "text/x-python",
   "name": "python",
   "nbconvert_exporter": "python",
   "pygments_lexer": "ipython3",
   "version": "3.6.5"
  }
 },
 "nbformat": 4,
 "nbformat_minor": 2
}
