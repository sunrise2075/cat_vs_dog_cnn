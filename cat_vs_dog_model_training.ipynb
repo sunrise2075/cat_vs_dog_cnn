{
 "cells": [
  {
   "cell_type": "markdown",
   "metadata": {},
   "source": [
    "# 图骗预处理"
   ]
  },
  {
   "cell_type": "code",
   "execution_count": 24,
   "metadata": {
    "collapsed": true
   },
   "outputs": [],
   "source": [
    "import os, shutil, platform\n",
    "import numpy as np\n",
    "import pandas as pd\n",
    "import matplotlib.pyplot as plt\n",
    "from random import shuffle \n",
    "\n",
    "%matplotlib inline "
   ]
  },
  {
   "cell_type": "markdown",
   "metadata": {},
   "source": [
    "## 工具函数:判断操作系统种类"
   ]
  },
  {
   "cell_type": "code",
   "execution_count": 25,
   "metadata": {
    "collapsed": true
   },
   "outputs": [],
   "source": [
    "def is_Windows_OS():\n",
    "    if platform.system() == 'Windows':\n",
    "        return True\n",
    "    else:\n",
    "        return False"
   ]
  },
  {
   "cell_type": "markdown",
   "metadata": {},
   "source": [
    "## 定义的目录结构变量"
   ]
  },
  {
   "cell_type": "code",
   "execution_count": 26,
   "metadata": {
    "collapsed": true
   },
   "outputs": [],
   "source": [
    "# 训练集图片从zip包解压之后存放的目录\n",
    "train_images_folder = 'train'\n",
    "\n",
    "# 训练集图片目录\n",
    "train_set_folder = 'train1'\n",
    "train_set_folder_cat = 'train1/cat/'\n",
    "train_set_folder_dog = 'train1/dog/'\n",
    "\n",
    "# 验证集图片目录\n",
    "validation_set_folder = 'valid'\n",
    "validation_set_folder_cat = 'valid/cat/'\n",
    "validation_set_folder_dog = 'valid/dog/'\n",
    "\n",
    "# 测试集图片从zip包解压缩之后的存放目录\n",
    "test_set_folder = 'test1'\n",
    "\n",
    "\n",
    "batch_size = 200\n",
    "target_size = (250, 250)"
   ]
  },
  {
   "cell_type": "markdown",
   "metadata": {},
   "source": [
    "## 新建有关目录结构"
   ]
  },
  {
   "cell_type": "code",
   "execution_count": 27,
   "metadata": {
    "collapsed": true
   },
   "outputs": [],
   "source": [
    "def rmrf_mkdir(dirname):\n",
    "    if os.path.exists(dirname):\n",
    "        shutil.rmtree(dirname)\n",
    "    os.mkdir(dirname)\n",
    "\n",
    "rmrf_mkdir(train_set_folder)\n",
    "os.mkdir(train_set_folder_cat)\n",
    "os.mkdir(train_set_folder_dog)\n",
    "\n",
    "rmrf_mkdir(validation_set_folder)\n",
    "os.mkdir(validation_set_folder_cat)\n",
    "os.mkdir(validation_set_folder_dog)"
   ]
  },
  {
   "cell_type": "markdown",
   "metadata": {},
   "source": [
    "## 加载训练集目录"
   ]
  },
  {
   "cell_type": "code",
   "execution_count": 28,
   "metadata": {
    "collapsed": true
   },
   "outputs": [],
   "source": [
    "train_filenames = os.listdir(train_images_folder)\n",
    "train_cat = filter(lambda x:x[:3] == 'cat', train_filenames)\n",
    "train_dog = filter(lambda x:x[:3] == 'dog', train_filenames)"
   ]
  },
  {
   "cell_type": "code",
   "execution_count": 29,
   "metadata": {},
   "outputs": [
    {
     "name": "stdout",
     "output_type": "stream",
     "text": [
      "<class 'filter'>\n",
      "25000\n"
     ]
    }
   ],
   "source": [
    "print (type(train_cat))\n",
    "print (len(train_filenames))"
   ]
  },
  {
   "cell_type": "code",
   "execution_count": 30,
   "metadata": {},
   "outputs": [
    {
     "name": "stdout",
     "output_type": "stream",
     "text": [
      "dog.9999.jpg\n"
     ]
    }
   ],
   "source": [
    "print (train_filenames[24999])"
   ]
  },
  {
   "cell_type": "markdown",
   "metadata": {},
   "source": [
    "定义一组移动有用的函数："
   ]
  },
  {
   "cell_type": "code",
   "execution_count": 31,
   "metadata": {
    "collapsed": true
   },
   "outputs": [],
   "source": [
    "def move_cat_images():\n",
    "    timer = 0\n",
    "    for filename in train_cat:\n",
    "        if timer < 3000:\n",
    "            shutil.copyfile('train/'+filename, validation_set_folder_cat + filename)\n",
    "        else:\n",
    "            shutil.copyfile('train/'+filename, train_set_folder_cat + filename)\n",
    "        timer = timer + 1\n",
    "\n",
    "def move_dog_images():\n",
    "    timer = 0\n",
    "    for filename in train_dog:\n",
    "        if timer < 3000:\n",
    "            shutil.copyfile('train/'+filename, validation_set_folder_dog + filename)\n",
    "        else:\n",
    "            shutil.copyfile('train/'+filename, train_set_folder_dog + filename)\n",
    "        timer = timer + 1\n",
    "        \n",
    "def create_cat_images_symlink():\n",
    "    timer = 0\n",
    "    for filename in train_cat:\n",
    "        if timer <3000:\n",
    "            os.symlink('train/'+filename, validation_set_folder_cat + filename)\n",
    "        else:\n",
    "            os.symlink('train/'+filename, train_set_folder_cat + filename)\n",
    "        timer = timer + 1\n",
    "\n",
    "def move_dog_images_symlink():\n",
    "    timer = 0\n",
    "    for filename in train_dog:\n",
    "        if timer < 3000:\n",
    "            os.symlink('train/'+filename, validation_set_folder_dog + filename)\n",
    "        else:\n",
    "            os.symlink('train/'+filename, train_set_folder_dog + filename)\n",
    "        timer = timer + 1    "
   ]
  },
  {
   "cell_type": "code",
   "execution_count": 32,
   "metadata": {
    "collapsed": true
   },
   "outputs": [],
   "source": [
    "def fill_train_set_valid_set_folder_with_images():\n",
    "    if is_Windows_OS():\n",
    "        move_cat_images()\n",
    "        move_dog_images()\n",
    "    else:\n",
    "        create_cat_images_symlink()\n",
    "        move_dog_images_symlink()"
   ]
  },
  {
   "cell_type": "code",
   "execution_count": 33,
   "metadata": {},
   "outputs": [
    {
     "name": "stdout",
     "output_type": "stream",
     "text": [
      "fill_train_set_valid_set_folder_with_images执行完毕\n"
     ]
    }
   ],
   "source": [
    "fill_train_set_valid_set_folder_with_images()\n",
    "print ('fill_train_set_valid_set_folder_with_images执行完毕')"
   ]
  },
  {
   "cell_type": "markdown",
   "metadata": {},
   "source": [
    "# 搭建并且编译模型"
   ]
  },
  {
   "cell_type": "code",
   "execution_count": null,
   "metadata": {},
   "outputs": [],
   "source": [
    "from keras.applications.densenet import DenseNet169\n",
    "from keras.models import Sequential\n",
    "from keras.layers import Conv2D, Input\n",
    "from keras.layers import MaxPooling2D, BatchNormalization\n",
    "from keras.layers import Flatten, Dropout\n",
    "from keras.layers import Dense, GlobalAveragePooling2D\n",
    "\n",
    "\n",
    "# 不包含原有模型的全连接层\n",
    "dnesenet_model = DenseNet169(include_top=False, \n",
    "                             weights='imagenet',\n",
    "                             input_shape = (250, 250, 3),\n",
    "                             pooling='avg')\n",
    "\n",
    "for layer in dnesenet_model.layers:\n",
    "    layer.trainable = False\n",
    "\n",
    "x = dnesenet_model.output\n",
    "\n",
    "# 添加全局平均池化层\n",
    "x = GlobalAveragePooling2D()(x)\n",
    "\n",
    "# Full Connected Layers\n",
    "x = Dense(units = 512, activation = 'relu',  name='fc1')(x)\n",
    "\n",
    "x = Dense(units = 128, activation = 'relu',  name='fc2')(x)\n",
    "\n",
    "# Dropout Layer\n",
    "x = Dropout(0.5, name='fc3_dropout')(x)\n",
    "\n",
    "# Classifier\n",
    "predictions = Dense(2, activation='softmax', name=\"predictions\")(x)\n",
    "\n",
    "model = Model(inputs=dnesenet_model.input, outputs=predictions)\n",
    "# Compiling the CNN\n",
    "model.compile(optimizer = 'adam', loss = 'binary_crossentropy', metrics = ['accuracy'])"
   ]
  },
  {
   "cell_type": "code",
   "execution_count": null,
   "metadata": {
    "collapsed": true
   },
   "outputs": [],
   "source": [
    "base_model.summary()"
   ]
  },
  {
   "cell_type": "markdown",
   "metadata": {},
   "source": [
    "## 训练模型"
   ]
  },
  {
   "cell_type": "code",
   "execution_count": null,
   "metadata": {
    "collapsed": true
   },
   "outputs": [],
   "source": [
    "\n",
    "from keras.preprocessing.image import ImageDataGenerator\n",
    "\n",
    "\n",
    "train_image_gen = ImageDataGenerator(rescale = 1./255,\n",
    "                                   shear_range = 0.2,\n",
    "                                   zoom_range = 0.2,\n",
    "                                   horizontal_flip = True)\n",
    "\n",
    "training_set = train_image_gen.flow_from_directory('train1',\n",
    "                                                 target_size = target_size,\n",
    "                                                 batch_size = batch_size,\n",
    "                                                 class_mode = 'binary')\n",
    "valid_image_gen = ImageDataGenerator(rescale = 1./255,\n",
    "                                   shear_range = 0.2,\n",
    "                                   zoom_range = 0.2,\n",
    "                                   horizontal_flip = True)\n",
    "\n",
    "validation_set = valid_image_gen.flow_from_directory('valid',\n",
    "                                                 target_size = target_size,\n",
    "                                                 batch_size = batch_size,\n",
    "                                                 class_mode = 'binary')\n",
    "\n",
    "\n",
    "model.fit_generator(training_set, steps_per_epoch = 500, epochs = 25, \n",
    "                    validation_data=validation_set， validation_steps = 500)"
   ]
  },
  {
   "cell_type": "code",
   "execution_count": null,
   "metadata": {
    "collapsed": true
   },
   "outputs": [],
   "source": []
  }
 ],
 "metadata": {
  "kernelspec": {
   "display_name": "Python 3",
   "language": "python",
   "name": "python3"
  },
  "language_info": {
   "codemirror_mode": {
    "name": "ipython",
    "version": 3
   },
   "file_extension": ".py",
   "mimetype": "text/x-python",
   "name": "python",
   "nbconvert_exporter": "python",
   "pygments_lexer": "ipython3",
   "version": "3.6.2"
  }
 },
 "nbformat": 4,
 "nbformat_minor": 2
}
